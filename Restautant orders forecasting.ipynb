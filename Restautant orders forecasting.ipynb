{
 "cells": [
  {
   "cell_type": "markdown",
   "metadata": {},
   "source": [
    "# Restautant orders forecasting"
   ]
  },
  {
   "cell_type": "markdown",
   "metadata": {},
   "source": [
    "## Problem Defination:\n",
    "This dataset consisted of 33k orders from two Indian takeaway restaurants in London, UK. The purpose of this notebook is to increase cross-selling when the customer performs by applying makert basket analysis (association rules) where the food could be or recommend when the takeaway is performed:\n",
    "\n",
    "* By predicting the orders, the raw materials and ingredients can be utilised efficiently\n",
    "* Preparation of frequent and demanding food orders can be improved to avoid getting exhausted and preparation of less frequent orders can be reduced, thus in overall shortening wastage of food and and its resources\n",
    "* Both X and Y could be placed on the same shelf, so that buyers of one item would be prompted to buy the other;\n",
    "* Promotional discounts could be applied to only one of the two items;\n",
    "* X and Y could be combined into a new product."
   ]
  },
  {
   "cell_type": "code",
   "execution_count": null,
   "metadata": {
    "execution": {
     "iopub.execute_input": "2022-11-28T02:13:42.671347Z",
     "iopub.status.busy": "2022-11-28T02:13:42.670751Z",
     "iopub.status.idle": "2022-11-28T02:13:44.968452Z",
     "shell.execute_reply": "2022-11-28T02:13:44.967761Z",
     "shell.execute_reply.started": "2022-11-28T02:13:42.671305Z"
    }
   },
   "outputs": [],
   "source": [
    "import pandas as pd\n",
    "import mlxtend\n",
    "from mlxtend.preprocessing import TransactionEncoder\n",
    "from mlxtend.frequent_patterns import apriori, association_rules\n",
    "import unidecode\n",
    "import plotly.express as px"
   ]
  },
  {
   "cell_type": "markdown",
   "metadata": {},
   "source": [
    "Since we have two data sets, we need to merge the information into one for easier analysis. To differentiate it between restaurant orders, first and second, a specific column was created for this purpose and remove the total_products column because it is a sum of the quantity of items in each order."
   ]
  },
  {
   "cell_type": "code",
   "execution_count": 30,
   "metadata": {
    "execution": {
     "iopub.execute_input": "2022-11-28T02:13:51.719700Z",
     "iopub.status.busy": "2022-11-28T02:13:51.718935Z",
     "iopub.status.idle": "2022-11-28T02:13:52.123316Z",
     "shell.execute_reply": "2022-11-28T02:13:52.122503Z",
     "shell.execute_reply.started": "2022-11-28T02:13:51.719635Z"
    }
   },
   "outputs": [],
   "source": [
    "orders_first_restaurant = pd.read_csv('./restaurant-1-orders.csv')\n",
    "orders_first_restaurant['restaurant'] = '1 - restaurant'\n",
    "\n",
    "orders_second_restaurant = pd.read_csv('./restaurant-2-orders.csv')\n",
    "orders_second_restaurant['restaurant'] = '2 - restaurant'\n",
    "orders_second_restaurant.rename(columns={'Order ID':'Order Number'},inplace=True)\n",
    "\n",
    "orders = pd.concat([orders_first_restaurant,orders_second_restaurant])\n",
    "orders.drop('Total products',axis=1,inplace=True)"
   ]
  },
  {
   "cell_type": "code",
   "execution_count": 31,
   "metadata": {
    "execution": {
     "iopub.execute_input": "2022-11-28T02:14:03.548303Z",
     "iopub.status.busy": "2022-11-28T02:14:03.547681Z",
     "iopub.status.idle": "2022-11-28T02:14:03.554982Z",
     "shell.execute_reply": "2022-11-28T02:14:03.554101Z",
     "shell.execute_reply.started": "2022-11-28T02:14:03.548248Z"
    }
   },
   "outputs": [],
   "source": [
    "def format_columns(column):\n",
    "    new_column = ' '.join(column.split())\n",
    "    new_column = new_column.replace(' ','_')\n",
    "    return new_column.lower()\n",
    "\n",
    "orders.columns = [format_columns(c) for c in orders.columns]"
   ]
  },
  {
   "cell_type": "markdown",
   "metadata": {},
   "source": [
    "After data preprocessing"
   ]
  },
  {
   "cell_type": "code",
   "execution_count": 32,
   "metadata": {
    "execution": {
     "iopub.execute_input": "2022-11-28T02:14:06.209665Z",
     "iopub.status.busy": "2022-11-28T02:14:06.209344Z",
     "iopub.status.idle": "2022-11-28T02:14:06.251064Z",
     "shell.execute_reply": "2022-11-28T02:14:06.250002Z",
     "shell.execute_reply.started": "2022-11-28T02:14:06.209630Z"
    }
   },
   "outputs": [
    {
     "data": {
      "text/plain": [
       "order_number     0.0\n",
       "order_date       0.0\n",
       "item_name        0.0\n",
       "quantity         0.0\n",
       "product_price    0.0\n",
       "restaurant       0.0\n",
       "dtype: float64"
      ]
     },
     "execution_count": 32,
     "metadata": {},
     "output_type": "execute_result"
    }
   ],
   "source": [
    "orders.isna().mean()"
   ]
  },
  {
   "cell_type": "code",
   "execution_count": 33,
   "metadata": {
    "execution": {
     "iopub.execute_input": "2022-11-28T02:14:08.720201Z",
     "iopub.status.busy": "2022-11-28T02:14:08.719678Z",
     "iopub.status.idle": "2022-11-28T02:14:08.727642Z",
     "shell.execute_reply": "2022-11-28T02:14:08.726901Z",
     "shell.execute_reply.started": "2022-11-28T02:14:08.720148Z"
    }
   },
   "outputs": [],
   "source": [
    "def stats_summary(data):\n",
    "    \n",
    "    sales = data['product_price'].sum()\n",
    "    quantity = data['quantity'].sum()\n",
    "    orders_count = len(data['order_number'].unique())\n",
    "    \n",
    "    avg_price_order = sales / orders_count\n",
    "    avg_price_food = sales / quantity\n",
    "    count_food_orders = quantity / orders_count\n",
    "    \n",
    "    return {'avg_price_order': avg_price_order,\n",
    "            'avg_price_food': avg_price_food,\n",
    "            'count_food_orders': count_food_orders\n",
    "           }\n",
    "\n",
    "def print_summary(data):\n",
    "    \n",
    "    stats = stats_summary(data)\n",
    "    \n",
    "    for key, value in stats.items():\n",
    "        print(f'{key}: {value:.3}')"
   ]
  },
  {
   "cell_type": "markdown",
   "metadata": {},
   "source": [
    "As we can see, the difference of the average order price between two restaurants is \\\\$ 1.44 and the food price of restaurant 1 is 0.16 cents more than the second restaurant, but the quantity of the food per order is higher in the second restaurant, which increases the average order price. The total shows that the average price is \\\\$ 43.6 and 10 food per order with \\\\$ 4.15 per food the average."
   ]
  },
  {
   "cell_type": "code",
   "execution_count": 34,
   "metadata": {
    "execution": {
     "iopub.execute_input": "2022-11-28T02:14:11.968438Z",
     "iopub.status.busy": "2022-11-28T02:14:11.967854Z",
     "iopub.status.idle": "2022-11-28T02:14:12.029084Z",
     "shell.execute_reply": "2022-11-28T02:14:12.028168Z",
     "shell.execute_reply.started": "2022-11-28T02:14:11.968383Z"
    }
   },
   "outputs": [
    {
     "name": "stdout",
     "output_type": "stream",
     "text": [
      "\n",
      "1 - restaurant\n",
      "\n",
      "avg_price_order: 29.5\n",
      "avg_price_food: 4.25\n",
      "count_food_orders: 6.94\n",
      "\n",
      "2 - restaurant\n",
      "\n",
      "avg_price_order: 31.0\n",
      "avg_price_food: 4.09\n",
      "count_food_orders: 7.57\n",
      "\n",
      "Total\n",
      "\n",
      "avg_price_order: 43.6\n",
      "avg_price_food: 4.15\n",
      "count_food_orders: 10.5\n"
     ]
    }
   ],
   "source": [
    "print('\\n1 - restaurant\\n')\n",
    "print_summary(orders[orders['restaurant']=='1 - restaurant'])\n",
    "print('\\n2 - restaurant\\n')\n",
    "print_summary(orders[orders['restaurant']=='2 - restaurant'])\n",
    "\n",
    "print('\\nTotal\\n')\n",
    "print_summary(orders)"
   ]
  },
  {
   "cell_type": "markdown",
   "metadata": {},
   "source": [
    "As we can see, the average frequency item is 509, that is, an item appears on average 509 times. When, we look at the median, we see that it is the outliers that pull the average up. The maximum value is 13093, which represents 56.8% of the orders with this item which is Pilau Rice. The frequency percentage of the item is 2.22% (mean / total unit orders) and the median percentage is 0.49%."
   ]
  },
  {
   "cell_type": "code",
   "execution_count": 35,
   "metadata": {
    "execution": {
     "iopub.execute_input": "2022-11-28T02:14:14.733385Z",
     "iopub.status.busy": "2022-11-28T02:14:14.732392Z",
     "iopub.status.idle": "2022-11-28T02:14:14.774606Z",
     "shell.execute_reply": "2022-11-28T02:14:14.773669Z",
     "shell.execute_reply.started": "2022-11-28T02:14:14.733326Z"
    }
   },
   "outputs": [
    {
     "name": "stdout",
     "output_type": "stream",
     "text": [
      "           quantity\n",
      "count    381.000000\n",
      "mean     509.188976\n",
      "std     1261.237290\n",
      "min        1.000000\n",
      "25%       26.000000\n",
      "50%      113.000000\n",
      "75%      408.000000\n",
      "max    13093.000000\n",
      "\n",
      "total unique orders: 23041\n"
     ]
    }
   ],
   "source": [
    "items_frequence = orders.groupby('item_name').size().reset_index(name='quantity')\n",
    "print(items_frequence.describe())\n",
    "print(f'\\ntotal unique orders: {len(orders[\"order_number\"].unique())}')"
   ]
  },
  {
   "cell_type": "markdown",
   "metadata": {},
   "source": [
    "Removing the extra spaces, symbols or accents if any, because maybe there are duplicate items but the same text with another way of writing."
   ]
  },
  {
   "cell_type": "code",
   "execution_count": 36,
   "metadata": {
    "execution": {
     "iopub.execute_input": "2022-11-28T02:14:19.670126Z",
     "iopub.status.busy": "2022-11-28T02:14:19.669795Z",
     "iopub.status.idle": "2022-11-28T02:14:19.879907Z",
     "shell.execute_reply": "2022-11-28T02:14:19.878812Z",
     "shell.execute_reply.started": "2022-11-28T02:14:19.670088Z"
    }
   },
   "outputs": [],
   "source": [
    "def text_normalization(text):\n",
    "    new_text = ' '.join(text.split())\n",
    "    return unidecode.unidecode(new_text.lower())\n",
    "\n",
    "orders['item_name'] = orders['item_name'].apply(text_normalization)"
   ]
  },
  {
   "cell_type": "markdown",
   "metadata": {},
   "source": [
    "We need to transform the dataset into a list of items in order and convert it into a matrix (data set) where the columns are items and the rows are the order. If that item belongs to that order the value 1 is assigned, otherwise 0."
   ]
  },
  {
   "cell_type": "code",
   "execution_count": 37,
   "metadata": {
    "execution": {
     "iopub.execute_input": "2022-11-28T02:14:45.967993Z",
     "iopub.status.busy": "2022-11-28T02:14:45.967691Z",
     "iopub.status.idle": "2022-11-28T02:14:47.466329Z",
     "shell.execute_reply": "2022-11-28T02:14:47.465630Z",
     "shell.execute_reply.started": "2022-11-28T02:14:45.967960Z"
    }
   },
   "outputs": [],
   "source": [
    "# convert the dataframe to list items in order\n",
    "item_list = orders.groupby('order_number')['item_name'].unique()\n",
    "\n",
    "# transform the values of the data set to 1 if that item belongs to that order, otherwise 0\n",
    "te = TransactionEncoder()\n",
    "oht_orders = te.fit(item_list).transform(item_list, sparse=True)"
   ]
  },
  {
   "cell_type": "markdown",
   "metadata": {},
   "source": [
    "To save memory, we represent the transaction data in sparse format.  Because, we have 316 items and 23041 orders."
   ]
  },
  {
   "cell_type": "code",
   "execution_count": 38,
   "metadata": {
    "execution": {
     "iopub.execute_input": "2022-11-28T02:14:57.411999Z",
     "iopub.status.busy": "2022-11-28T02:14:57.411089Z",
     "iopub.status.idle": "2022-11-28T02:14:57.429263Z",
     "shell.execute_reply": "2022-11-28T02:14:57.428263Z",
     "shell.execute_reply.started": "2022-11-28T02:14:57.411952Z"
    }
   },
   "outputs": [],
   "source": [
    "sparse_df_items = pd.DataFrame.sparse.from_spmatrix(oht_orders, columns=te.columns_)"
   ]
  },
  {
   "cell_type": "markdown",
   "metadata": {},
   "source": [
    "As a threshold for the minimum frequency of a set of items(the support metric), we used the percentage of the average/unique order frequency, which is 2.22% and max len of set of items equals 10. "
   ]
  },
  {
   "cell_type": "code",
   "execution_count": 39,
   "metadata": {
    "execution": {
     "iopub.execute_input": "2022-11-28T02:15:02.676761Z",
     "iopub.status.busy": "2022-11-28T02:15:02.676125Z",
     "iopub.status.idle": "2022-11-28T02:15:04.945134Z",
     "shell.execute_reply": "2022-11-28T02:15:04.944207Z",
     "shell.execute_reply.started": "2022-11-28T02:15:02.676710Z"
    }
   },
   "outputs": [
    {
     "name": "stdout",
     "output_type": "stream",
     "text": [
      "Processing 600 combinations | Sampling itemset size 54\n"
     ]
    }
   ],
   "source": [
    "frequent_itemsets = apriori(sparse_df_items, min_support=0.02209,max_len=11, use_colnames=True, verbose=1)"
   ]
  },
  {
   "cell_type": "markdown",
   "metadata": {},
   "source": [
    "We create a copy of frequent item sets to create a custom output and analyze."
   ]
  },
  {
   "cell_type": "code",
   "execution_count": 40,
   "metadata": {
    "execution": {
     "iopub.execute_input": "2022-11-28T02:15:42.903104Z",
     "iopub.status.busy": "2022-11-28T02:15:42.902761Z",
     "iopub.status.idle": "2022-11-28T02:15:42.915622Z",
     "shell.execute_reply": "2022-11-28T02:15:42.914580Z",
     "shell.execute_reply.started": "2022-11-28T02:15:42.903066Z"
    },
    "scrolled": true
   },
   "outputs": [],
   "source": [
    "frequent_itemsets_plot = frequent_itemsets.copy()\n",
    "frequent_itemsets_plot['length'] = frequent_itemsets['itemsets'].apply(lambda x: len(x))\n",
    "frequent_itemsets_plot['support'] = (frequent_itemsets_plot['support'] * 100).round(2)\n",
    "frequent_itemsets_plot[\"itemsets\"] = frequent_itemsets_plot[\"itemsets\"].apply(lambda x: ', '.join(list(x))).astype(\"str\")"
   ]
  },
  {
   "cell_type": "markdown",
   "metadata": {},
   "source": [
    "We get 556 frequency item sets with the filter we apply. We can see, that most of the item set sizes are 2 and the maximum value is 5. But it is not necessary that this itemset has a high frequency in orders. We have a high std for length equal to 1 indicating item variability and a low variability for length equal to 2 or 3 representing 4.64% and 3.48% respectively on average in the orders."
   ]
  },
  {
   "cell_type": "code",
   "execution_count": 41,
   "metadata": {
    "execution": {
     "iopub.execute_input": "2022-11-28T02:15:48.186134Z",
     "iopub.status.busy": "2022-11-28T02:15:48.185808Z",
     "iopub.status.idle": "2022-11-28T02:15:48.219106Z",
     "shell.execute_reply": "2022-11-28T02:15:48.218184Z",
     "shell.execute_reply.started": "2022-11-28T02:15:48.186097Z"
    }
   },
   "outputs": [
    {
     "data": {
      "text/html": [
       "<div>\n",
       "<style scoped>\n",
       "    .dataframe tbody tr th:only-of-type {\n",
       "        vertical-align: middle;\n",
       "    }\n",
       "\n",
       "    .dataframe tbody tr th {\n",
       "        vertical-align: top;\n",
       "    }\n",
       "\n",
       "    .dataframe thead th {\n",
       "        text-align: right;\n",
       "    }\n",
       "</style>\n",
       "<table border=\"1\" class=\"dataframe\">\n",
       "  <thead>\n",
       "    <tr style=\"text-align: right;\">\n",
       "      <th></th>\n",
       "      <th>count</th>\n",
       "      <th>mean</th>\n",
       "      <th>std</th>\n",
       "      <th>min</th>\n",
       "      <th>25%</th>\n",
       "      <th>50%</th>\n",
       "      <th>75%</th>\n",
       "      <th>max</th>\n",
       "    </tr>\n",
       "    <tr>\n",
       "      <th>length</th>\n",
       "      <th></th>\n",
       "      <th></th>\n",
       "      <th></th>\n",
       "      <th></th>\n",
       "      <th></th>\n",
       "      <th></th>\n",
       "      <th></th>\n",
       "      <th></th>\n",
       "    </tr>\n",
       "  </thead>\n",
       "  <tbody>\n",
       "    <tr>\n",
       "      <th>1</th>\n",
       "      <td>73.0</td>\n",
       "      <td>8.864384</td>\n",
       "      <td>8.976832</td>\n",
       "      <td>2.22</td>\n",
       "      <td>3.2800</td>\n",
       "      <td>5.06</td>\n",
       "      <td>10.580</td>\n",
       "      <td>50.17</td>\n",
       "    </tr>\n",
       "    <tr>\n",
       "      <th>2</th>\n",
       "      <td>252.0</td>\n",
       "      <td>4.637302</td>\n",
       "      <td>3.121391</td>\n",
       "      <td>2.21</td>\n",
       "      <td>2.7375</td>\n",
       "      <td>3.51</td>\n",
       "      <td>5.215</td>\n",
       "      <td>24.15</td>\n",
       "    </tr>\n",
       "    <tr>\n",
       "      <th>3</th>\n",
       "      <td>197.0</td>\n",
       "      <td>3.484112</td>\n",
       "      <td>1.451654</td>\n",
       "      <td>2.21</td>\n",
       "      <td>2.5400</td>\n",
       "      <td>2.99</td>\n",
       "      <td>3.920</td>\n",
       "      <td>12.07</td>\n",
       "    </tr>\n",
       "    <tr>\n",
       "      <th>4</th>\n",
       "      <td>43.0</td>\n",
       "      <td>2.908140</td>\n",
       "      <td>0.703607</td>\n",
       "      <td>2.27</td>\n",
       "      <td>2.4300</td>\n",
       "      <td>2.68</td>\n",
       "      <td>3.100</td>\n",
       "      <td>5.01</td>\n",
       "    </tr>\n",
       "    <tr>\n",
       "      <th>5</th>\n",
       "      <td>1.0</td>\n",
       "      <td>2.280000</td>\n",
       "      <td>NaN</td>\n",
       "      <td>2.28</td>\n",
       "      <td>2.2800</td>\n",
       "      <td>2.28</td>\n",
       "      <td>2.280</td>\n",
       "      <td>2.28</td>\n",
       "    </tr>\n",
       "  </tbody>\n",
       "</table>\n",
       "</div>"
      ],
      "text/plain": [
       "        count      mean       std   min     25%   50%     75%    max\n",
       "length                                                              \n",
       "1        73.0  8.864384  8.976832  2.22  3.2800  5.06  10.580  50.17\n",
       "2       252.0  4.637302  3.121391  2.21  2.7375  3.51   5.215  24.15\n",
       "3       197.0  3.484112  1.451654  2.21  2.5400  2.99   3.920  12.07\n",
       "4        43.0  2.908140  0.703607  2.27  2.4300  2.68   3.100   5.01\n",
       "5         1.0  2.280000       NaN  2.28  2.2800  2.28   2.280   2.28"
      ]
     },
     "execution_count": 41,
     "metadata": {},
     "output_type": "execute_result"
    }
   ],
   "source": [
    "frequent_itemsets_plot.groupby('length')['support'].describe()"
   ]
  },
  {
   "cell_type": "markdown",
   "metadata": {},
   "source": [
    "As we can see, 50% of orders have rice pilau and 39.78% have simple papadum and other information is 24.15% of orders have simple papadum and rice pilau in the same order and 19.2% have simple papadum, mango chutney. In addition, 2.28% of orders have simple papadum, onion chutney, mango chutney, mint sauce, rice pilau as items."
   ]
  },
  {
   "cell_type": "code",
   "execution_count": 42,
   "metadata": {
    "execution": {
     "iopub.execute_input": "2022-11-28T02:15:58.078437Z",
     "iopub.status.busy": "2022-11-28T02:15:58.077877Z",
     "iopub.status.idle": "2022-11-28T02:15:59.273282Z",
     "shell.execute_reply": "2022-11-28T02:15:59.272294Z",
     "shell.execute_reply.started": "2022-11-28T02:15:58.078385Z"
    }
   },
   "outputs": [
    {
     "name": "stderr",
     "output_type": "stream",
     "text": [
      "/Users/kevlarn/opt/anaconda3/lib/python3.9/site-packages/plotly/io/_renderers.py:396: DeprecationWarning:\n",
      "\n",
      "distutils Version classes are deprecated. Use packaging.version instead.\n",
      "\n",
      "/Users/kevlarn/opt/anaconda3/lib/python3.9/site-packages/plotly/io/_renderers.py:396: DeprecationWarning:\n",
      "\n",
      "distutils Version classes are deprecated. Use packaging.version instead.\n",
      "\n"
     ]
    },
    {
     "data": {
      "application/vnd.plotly.v1+json": {
       "config": {
        "plotlyServerURL": "https://plot.ly"
       },
       "data": [
        {
         "alignmentgroup": "True",
         "hovertemplate": "support=%{text}<br>itemsets=%{y}<extra></extra>",
         "legendgroup": "",
         "marker": {
          "color": "#636efa",
          "pattern": {
           "shape": ""
          }
         },
         "name": "",
         "offsetgroup": "",
         "orientation": "h",
         "showlegend": false,
         "text": [
          15.12,
          15.38,
          15.58,
          15.67,
          15.84,
          16.04,
          16.28,
          16.62,
          17.76,
          18.42,
          19.2,
          21.3,
          22.78,
          23.12,
          24.15,
          24.35,
          26.67,
          28.99,
          39.78,
          50.17
         ],
         "textposition": "outside",
         "type": "bar",
         "x": [
          15.12,
          15.38,
          15.58,
          15.67,
          15.84,
          16.04,
          16.28,
          16.62,
          17.76,
          18.42,
          19.2,
          21.3,
          22.78,
          23.12,
          24.15,
          24.35,
          26.67,
          28.99,
          39.78,
          50.17
         ],
         "xaxis": "x",
         "y": [
          "bombay aloo, pilau rice",
          "pilau rice, garlic naan",
          "peshwari naan",
          "onion bhaji",
          "pilau rice, chicken tikka masala",
          "keema naan",
          "plain naan",
          "mint sauce",
          "pilau rice, naan",
          "mushroom rice",
          "plain papadum, mango chutney",
          "plain rice",
          "mango chutney",
          "chicken tikka masala",
          "plain papadum, pilau rice",
          "bombay aloo",
          "garlic naan",
          "naan",
          "plain papadum",
          "pilau rice"
         ],
         "yaxis": "y"
        }
       ],
       "layout": {
        "barmode": "relative",
        "legend": {
         "tracegroupgap": 0
        },
        "margin": {
         "t": 60
        },
        "template": {
         "data": {
          "bar": [
           {
            "error_x": {
             "color": "#2a3f5f"
            },
            "error_y": {
             "color": "#2a3f5f"
            },
            "marker": {
             "line": {
              "color": "#E5ECF6",
              "width": 0.5
             },
             "pattern": {
              "fillmode": "overlay",
              "size": 10,
              "solidity": 0.2
             }
            },
            "type": "bar"
           }
          ],
          "barpolar": [
           {
            "marker": {
             "line": {
              "color": "#E5ECF6",
              "width": 0.5
             },
             "pattern": {
              "fillmode": "overlay",
              "size": 10,
              "solidity": 0.2
             }
            },
            "type": "barpolar"
           }
          ],
          "carpet": [
           {
            "aaxis": {
             "endlinecolor": "#2a3f5f",
             "gridcolor": "white",
             "linecolor": "white",
             "minorgridcolor": "white",
             "startlinecolor": "#2a3f5f"
            },
            "baxis": {
             "endlinecolor": "#2a3f5f",
             "gridcolor": "white",
             "linecolor": "white",
             "minorgridcolor": "white",
             "startlinecolor": "#2a3f5f"
            },
            "type": "carpet"
           }
          ],
          "choropleth": [
           {
            "colorbar": {
             "outlinewidth": 0,
             "ticks": ""
            },
            "type": "choropleth"
           }
          ],
          "contour": [
           {
            "colorbar": {
             "outlinewidth": 0,
             "ticks": ""
            },
            "colorscale": [
             [
              0,
              "#0d0887"
             ],
             [
              0.1111111111111111,
              "#46039f"
             ],
             [
              0.2222222222222222,
              "#7201a8"
             ],
             [
              0.3333333333333333,
              "#9c179e"
             ],
             [
              0.4444444444444444,
              "#bd3786"
             ],
             [
              0.5555555555555556,
              "#d8576b"
             ],
             [
              0.6666666666666666,
              "#ed7953"
             ],
             [
              0.7777777777777778,
              "#fb9f3a"
             ],
             [
              0.8888888888888888,
              "#fdca26"
             ],
             [
              1,
              "#f0f921"
             ]
            ],
            "type": "contour"
           }
          ],
          "contourcarpet": [
           {
            "colorbar": {
             "outlinewidth": 0,
             "ticks": ""
            },
            "type": "contourcarpet"
           }
          ],
          "heatmap": [
           {
            "colorbar": {
             "outlinewidth": 0,
             "ticks": ""
            },
            "colorscale": [
             [
              0,
              "#0d0887"
             ],
             [
              0.1111111111111111,
              "#46039f"
             ],
             [
              0.2222222222222222,
              "#7201a8"
             ],
             [
              0.3333333333333333,
              "#9c179e"
             ],
             [
              0.4444444444444444,
              "#bd3786"
             ],
             [
              0.5555555555555556,
              "#d8576b"
             ],
             [
              0.6666666666666666,
              "#ed7953"
             ],
             [
              0.7777777777777778,
              "#fb9f3a"
             ],
             [
              0.8888888888888888,
              "#fdca26"
             ],
             [
              1,
              "#f0f921"
             ]
            ],
            "type": "heatmap"
           }
          ],
          "heatmapgl": [
           {
            "colorbar": {
             "outlinewidth": 0,
             "ticks": ""
            },
            "colorscale": [
             [
              0,
              "#0d0887"
             ],
             [
              0.1111111111111111,
              "#46039f"
             ],
             [
              0.2222222222222222,
              "#7201a8"
             ],
             [
              0.3333333333333333,
              "#9c179e"
             ],
             [
              0.4444444444444444,
              "#bd3786"
             ],
             [
              0.5555555555555556,
              "#d8576b"
             ],
             [
              0.6666666666666666,
              "#ed7953"
             ],
             [
              0.7777777777777778,
              "#fb9f3a"
             ],
             [
              0.8888888888888888,
              "#fdca26"
             ],
             [
              1,
              "#f0f921"
             ]
            ],
            "type": "heatmapgl"
           }
          ],
          "histogram": [
           {
            "marker": {
             "pattern": {
              "fillmode": "overlay",
              "size": 10,
              "solidity": 0.2
             }
            },
            "type": "histogram"
           }
          ],
          "histogram2d": [
           {
            "colorbar": {
             "outlinewidth": 0,
             "ticks": ""
            },
            "colorscale": [
             [
              0,
              "#0d0887"
             ],
             [
              0.1111111111111111,
              "#46039f"
             ],
             [
              0.2222222222222222,
              "#7201a8"
             ],
             [
              0.3333333333333333,
              "#9c179e"
             ],
             [
              0.4444444444444444,
              "#bd3786"
             ],
             [
              0.5555555555555556,
              "#d8576b"
             ],
             [
              0.6666666666666666,
              "#ed7953"
             ],
             [
              0.7777777777777778,
              "#fb9f3a"
             ],
             [
              0.8888888888888888,
              "#fdca26"
             ],
             [
              1,
              "#f0f921"
             ]
            ],
            "type": "histogram2d"
           }
          ],
          "histogram2dcontour": [
           {
            "colorbar": {
             "outlinewidth": 0,
             "ticks": ""
            },
            "colorscale": [
             [
              0,
              "#0d0887"
             ],
             [
              0.1111111111111111,
              "#46039f"
             ],
             [
              0.2222222222222222,
              "#7201a8"
             ],
             [
              0.3333333333333333,
              "#9c179e"
             ],
             [
              0.4444444444444444,
              "#bd3786"
             ],
             [
              0.5555555555555556,
              "#d8576b"
             ],
             [
              0.6666666666666666,
              "#ed7953"
             ],
             [
              0.7777777777777778,
              "#fb9f3a"
             ],
             [
              0.8888888888888888,
              "#fdca26"
             ],
             [
              1,
              "#f0f921"
             ]
            ],
            "type": "histogram2dcontour"
           }
          ],
          "mesh3d": [
           {
            "colorbar": {
             "outlinewidth": 0,
             "ticks": ""
            },
            "type": "mesh3d"
           }
          ],
          "parcoords": [
           {
            "line": {
             "colorbar": {
              "outlinewidth": 0,
              "ticks": ""
             }
            },
            "type": "parcoords"
           }
          ],
          "pie": [
           {
            "automargin": true,
            "type": "pie"
           }
          ],
          "scatter": [
           {
            "marker": {
             "colorbar": {
              "outlinewidth": 0,
              "ticks": ""
             }
            },
            "type": "scatter"
           }
          ],
          "scatter3d": [
           {
            "line": {
             "colorbar": {
              "outlinewidth": 0,
              "ticks": ""
             }
            },
            "marker": {
             "colorbar": {
              "outlinewidth": 0,
              "ticks": ""
             }
            },
            "type": "scatter3d"
           }
          ],
          "scattercarpet": [
           {
            "marker": {
             "colorbar": {
              "outlinewidth": 0,
              "ticks": ""
             }
            },
            "type": "scattercarpet"
           }
          ],
          "scattergeo": [
           {
            "marker": {
             "colorbar": {
              "outlinewidth": 0,
              "ticks": ""
             }
            },
            "type": "scattergeo"
           }
          ],
          "scattergl": [
           {
            "marker": {
             "colorbar": {
              "outlinewidth": 0,
              "ticks": ""
             }
            },
            "type": "scattergl"
           }
          ],
          "scattermapbox": [
           {
            "marker": {
             "colorbar": {
              "outlinewidth": 0,
              "ticks": ""
             }
            },
            "type": "scattermapbox"
           }
          ],
          "scatterpolar": [
           {
            "marker": {
             "colorbar": {
              "outlinewidth": 0,
              "ticks": ""
             }
            },
            "type": "scatterpolar"
           }
          ],
          "scatterpolargl": [
           {
            "marker": {
             "colorbar": {
              "outlinewidth": 0,
              "ticks": ""
             }
            },
            "type": "scatterpolargl"
           }
          ],
          "scatterternary": [
           {
            "marker": {
             "colorbar": {
              "outlinewidth": 0,
              "ticks": ""
             }
            },
            "type": "scatterternary"
           }
          ],
          "surface": [
           {
            "colorbar": {
             "outlinewidth": 0,
             "ticks": ""
            },
            "colorscale": [
             [
              0,
              "#0d0887"
             ],
             [
              0.1111111111111111,
              "#46039f"
             ],
             [
              0.2222222222222222,
              "#7201a8"
             ],
             [
              0.3333333333333333,
              "#9c179e"
             ],
             [
              0.4444444444444444,
              "#bd3786"
             ],
             [
              0.5555555555555556,
              "#d8576b"
             ],
             [
              0.6666666666666666,
              "#ed7953"
             ],
             [
              0.7777777777777778,
              "#fb9f3a"
             ],
             [
              0.8888888888888888,
              "#fdca26"
             ],
             [
              1,
              "#f0f921"
             ]
            ],
            "type": "surface"
           }
          ],
          "table": [
           {
            "cells": {
             "fill": {
              "color": "#EBF0F8"
             },
             "line": {
              "color": "white"
             }
            },
            "header": {
             "fill": {
              "color": "#C8D4E3"
             },
             "line": {
              "color": "white"
             }
            },
            "type": "table"
           }
          ]
         },
         "layout": {
          "annotationdefaults": {
           "arrowcolor": "#2a3f5f",
           "arrowhead": 0,
           "arrowwidth": 1
          },
          "autotypenumbers": "strict",
          "coloraxis": {
           "colorbar": {
            "outlinewidth": 0,
            "ticks": ""
           }
          },
          "colorscale": {
           "diverging": [
            [
             0,
             "#8e0152"
            ],
            [
             0.1,
             "#c51b7d"
            ],
            [
             0.2,
             "#de77ae"
            ],
            [
             0.3,
             "#f1b6da"
            ],
            [
             0.4,
             "#fde0ef"
            ],
            [
             0.5,
             "#f7f7f7"
            ],
            [
             0.6,
             "#e6f5d0"
            ],
            [
             0.7,
             "#b8e186"
            ],
            [
             0.8,
             "#7fbc41"
            ],
            [
             0.9,
             "#4d9221"
            ],
            [
             1,
             "#276419"
            ]
           ],
           "sequential": [
            [
             0,
             "#0d0887"
            ],
            [
             0.1111111111111111,
             "#46039f"
            ],
            [
             0.2222222222222222,
             "#7201a8"
            ],
            [
             0.3333333333333333,
             "#9c179e"
            ],
            [
             0.4444444444444444,
             "#bd3786"
            ],
            [
             0.5555555555555556,
             "#d8576b"
            ],
            [
             0.6666666666666666,
             "#ed7953"
            ],
            [
             0.7777777777777778,
             "#fb9f3a"
            ],
            [
             0.8888888888888888,
             "#fdca26"
            ],
            [
             1,
             "#f0f921"
            ]
           ],
           "sequentialminus": [
            [
             0,
             "#0d0887"
            ],
            [
             0.1111111111111111,
             "#46039f"
            ],
            [
             0.2222222222222222,
             "#7201a8"
            ],
            [
             0.3333333333333333,
             "#9c179e"
            ],
            [
             0.4444444444444444,
             "#bd3786"
            ],
            [
             0.5555555555555556,
             "#d8576b"
            ],
            [
             0.6666666666666666,
             "#ed7953"
            ],
            [
             0.7777777777777778,
             "#fb9f3a"
            ],
            [
             0.8888888888888888,
             "#fdca26"
            ],
            [
             1,
             "#f0f921"
            ]
           ]
          },
          "colorway": [
           "#636efa",
           "#EF553B",
           "#00cc96",
           "#ab63fa",
           "#FFA15A",
           "#19d3f3",
           "#FF6692",
           "#B6E880",
           "#FF97FF",
           "#FECB52"
          ],
          "font": {
           "color": "#2a3f5f"
          },
          "geo": {
           "bgcolor": "white",
           "lakecolor": "white",
           "landcolor": "#E5ECF6",
           "showlakes": true,
           "showland": true,
           "subunitcolor": "white"
          },
          "hoverlabel": {
           "align": "left"
          },
          "hovermode": "closest",
          "mapbox": {
           "style": "light"
          },
          "paper_bgcolor": "white",
          "plot_bgcolor": "#E5ECF6",
          "polar": {
           "angularaxis": {
            "gridcolor": "white",
            "linecolor": "white",
            "ticks": ""
           },
           "bgcolor": "#E5ECF6",
           "radialaxis": {
            "gridcolor": "white",
            "linecolor": "white",
            "ticks": ""
           }
          },
          "scene": {
           "xaxis": {
            "backgroundcolor": "#E5ECF6",
            "gridcolor": "white",
            "gridwidth": 2,
            "linecolor": "white",
            "showbackground": true,
            "ticks": "",
            "zerolinecolor": "white"
           },
           "yaxis": {
            "backgroundcolor": "#E5ECF6",
            "gridcolor": "white",
            "gridwidth": 2,
            "linecolor": "white",
            "showbackground": true,
            "ticks": "",
            "zerolinecolor": "white"
           },
           "zaxis": {
            "backgroundcolor": "#E5ECF6",
            "gridcolor": "white",
            "gridwidth": 2,
            "linecolor": "white",
            "showbackground": true,
            "ticks": "",
            "zerolinecolor": "white"
           }
          },
          "shapedefaults": {
           "line": {
            "color": "#2a3f5f"
           }
          },
          "ternary": {
           "aaxis": {
            "gridcolor": "white",
            "linecolor": "white",
            "ticks": ""
           },
           "baxis": {
            "gridcolor": "white",
            "linecolor": "white",
            "ticks": ""
           },
           "bgcolor": "#E5ECF6",
           "caxis": {
            "gridcolor": "white",
            "linecolor": "white",
            "ticks": ""
           }
          },
          "title": {
           "x": 0.05
          },
          "xaxis": {
           "automargin": true,
           "gridcolor": "white",
           "linecolor": "white",
           "ticks": "",
           "title": {
            "standoff": 15
           },
           "zerolinecolor": "white",
           "zerolinewidth": 2
          },
          "yaxis": {
           "automargin": true,
           "gridcolor": "white",
           "linecolor": "white",
           "ticks": "",
           "title": {
            "standoff": 15
           },
           "zerolinecolor": "white",
           "zerolinewidth": 2
          }
         }
        },
        "xaxis": {
         "anchor": "y",
         "domain": [
          0,
          1
         ],
         "title": {
          "text": "support"
         }
        },
        "yaxis": {
         "anchor": "x",
         "domain": [
          0,
          1
         ],
         "title": {
          "text": "itemsets"
         }
        }
       }
      },
      "text/html": [
       "<div>                            <div id=\"6e94c5bc-db17-4e70-914a-536179cc2fba\" class=\"plotly-graph-div\" style=\"height:525px; width:100%;\"></div>            <script type=\"text/javascript\">                require([\"plotly\"], function(Plotly) {                    window.PLOTLYENV=window.PLOTLYENV || {};                                    if (document.getElementById(\"6e94c5bc-db17-4e70-914a-536179cc2fba\")) {                    Plotly.newPlot(                        \"6e94c5bc-db17-4e70-914a-536179cc2fba\",                        [{\"alignmentgroup\":\"True\",\"hovertemplate\":\"support=%{text}<br>itemsets=%{y}<extra></extra>\",\"legendgroup\":\"\",\"marker\":{\"color\":\"#636efa\",\"pattern\":{\"shape\":\"\"}},\"name\":\"\",\"offsetgroup\":\"\",\"orientation\":\"h\",\"showlegend\":false,\"text\":[15.12,15.38,15.58,15.67,15.84,16.04,16.28,16.62,17.76,18.42,19.2,21.3,22.78,23.12,24.15,24.35,26.67,28.99,39.78,50.17],\"textposition\":\"outside\",\"x\":[15.12,15.38,15.58,15.67,15.84,16.04,16.28,16.62,17.76,18.42,19.2,21.3,22.78,23.12,24.15,24.35,26.67,28.99,39.78,50.17],\"xaxis\":\"x\",\"y\":[\"bombay aloo, pilau rice\",\"pilau rice, garlic naan\",\"peshwari naan\",\"onion bhaji\",\"pilau rice, chicken tikka masala\",\"keema naan\",\"plain naan\",\"mint sauce\",\"pilau rice, naan\",\"mushroom rice\",\"plain papadum, mango chutney\",\"plain rice\",\"mango chutney\",\"chicken tikka masala\",\"plain papadum, pilau rice\",\"bombay aloo\",\"garlic naan\",\"naan\",\"plain papadum\",\"pilau rice\"],\"yaxis\":\"y\",\"type\":\"bar\"}],                        {\"template\":{\"data\":{\"bar\":[{\"error_x\":{\"color\":\"#2a3f5f\"},\"error_y\":{\"color\":\"#2a3f5f\"},\"marker\":{\"line\":{\"color\":\"#E5ECF6\",\"width\":0.5},\"pattern\":{\"fillmode\":\"overlay\",\"size\":10,\"solidity\":0.2}},\"type\":\"bar\"}],\"barpolar\":[{\"marker\":{\"line\":{\"color\":\"#E5ECF6\",\"width\":0.5},\"pattern\":{\"fillmode\":\"overlay\",\"size\":10,\"solidity\":0.2}},\"type\":\"barpolar\"}],\"carpet\":[{\"aaxis\":{\"endlinecolor\":\"#2a3f5f\",\"gridcolor\":\"white\",\"linecolor\":\"white\",\"minorgridcolor\":\"white\",\"startlinecolor\":\"#2a3f5f\"},\"baxis\":{\"endlinecolor\":\"#2a3f5f\",\"gridcolor\":\"white\",\"linecolor\":\"white\",\"minorgridcolor\":\"white\",\"startlinecolor\":\"#2a3f5f\"},\"type\":\"carpet\"}],\"choropleth\":[{\"colorbar\":{\"outlinewidth\":0,\"ticks\":\"\"},\"type\":\"choropleth\"}],\"contour\":[{\"colorbar\":{\"outlinewidth\":0,\"ticks\":\"\"},\"colorscale\":[[0.0,\"#0d0887\"],[0.1111111111111111,\"#46039f\"],[0.2222222222222222,\"#7201a8\"],[0.3333333333333333,\"#9c179e\"],[0.4444444444444444,\"#bd3786\"],[0.5555555555555556,\"#d8576b\"],[0.6666666666666666,\"#ed7953\"],[0.7777777777777778,\"#fb9f3a\"],[0.8888888888888888,\"#fdca26\"],[1.0,\"#f0f921\"]],\"type\":\"contour\"}],\"contourcarpet\":[{\"colorbar\":{\"outlinewidth\":0,\"ticks\":\"\"},\"type\":\"contourcarpet\"}],\"heatmap\":[{\"colorbar\":{\"outlinewidth\":0,\"ticks\":\"\"},\"colorscale\":[[0.0,\"#0d0887\"],[0.1111111111111111,\"#46039f\"],[0.2222222222222222,\"#7201a8\"],[0.3333333333333333,\"#9c179e\"],[0.4444444444444444,\"#bd3786\"],[0.5555555555555556,\"#d8576b\"],[0.6666666666666666,\"#ed7953\"],[0.7777777777777778,\"#fb9f3a\"],[0.8888888888888888,\"#fdca26\"],[1.0,\"#f0f921\"]],\"type\":\"heatmap\"}],\"heatmapgl\":[{\"colorbar\":{\"outlinewidth\":0,\"ticks\":\"\"},\"colorscale\":[[0.0,\"#0d0887\"],[0.1111111111111111,\"#46039f\"],[0.2222222222222222,\"#7201a8\"],[0.3333333333333333,\"#9c179e\"],[0.4444444444444444,\"#bd3786\"],[0.5555555555555556,\"#d8576b\"],[0.6666666666666666,\"#ed7953\"],[0.7777777777777778,\"#fb9f3a\"],[0.8888888888888888,\"#fdca26\"],[1.0,\"#f0f921\"]],\"type\":\"heatmapgl\"}],\"histogram\":[{\"marker\":{\"pattern\":{\"fillmode\":\"overlay\",\"size\":10,\"solidity\":0.2}},\"type\":\"histogram\"}],\"histogram2d\":[{\"colorbar\":{\"outlinewidth\":0,\"ticks\":\"\"},\"colorscale\":[[0.0,\"#0d0887\"],[0.1111111111111111,\"#46039f\"],[0.2222222222222222,\"#7201a8\"],[0.3333333333333333,\"#9c179e\"],[0.4444444444444444,\"#bd3786\"],[0.5555555555555556,\"#d8576b\"],[0.6666666666666666,\"#ed7953\"],[0.7777777777777778,\"#fb9f3a\"],[0.8888888888888888,\"#fdca26\"],[1.0,\"#f0f921\"]],\"type\":\"histogram2d\"}],\"histogram2dcontour\":[{\"colorbar\":{\"outlinewidth\":0,\"ticks\":\"\"},\"colorscale\":[[0.0,\"#0d0887\"],[0.1111111111111111,\"#46039f\"],[0.2222222222222222,\"#7201a8\"],[0.3333333333333333,\"#9c179e\"],[0.4444444444444444,\"#bd3786\"],[0.5555555555555556,\"#d8576b\"],[0.6666666666666666,\"#ed7953\"],[0.7777777777777778,\"#fb9f3a\"],[0.8888888888888888,\"#fdca26\"],[1.0,\"#f0f921\"]],\"type\":\"histogram2dcontour\"}],\"mesh3d\":[{\"colorbar\":{\"outlinewidth\":0,\"ticks\":\"\"},\"type\":\"mesh3d\"}],\"parcoords\":[{\"line\":{\"colorbar\":{\"outlinewidth\":0,\"ticks\":\"\"}},\"type\":\"parcoords\"}],\"pie\":[{\"automargin\":true,\"type\":\"pie\"}],\"scatter\":[{\"marker\":{\"colorbar\":{\"outlinewidth\":0,\"ticks\":\"\"}},\"type\":\"scatter\"}],\"scatter3d\":[{\"line\":{\"colorbar\":{\"outlinewidth\":0,\"ticks\":\"\"}},\"marker\":{\"colorbar\":{\"outlinewidth\":0,\"ticks\":\"\"}},\"type\":\"scatter3d\"}],\"scattercarpet\":[{\"marker\":{\"colorbar\":{\"outlinewidth\":0,\"ticks\":\"\"}},\"type\":\"scattercarpet\"}],\"scattergeo\":[{\"marker\":{\"colorbar\":{\"outlinewidth\":0,\"ticks\":\"\"}},\"type\":\"scattergeo\"}],\"scattergl\":[{\"marker\":{\"colorbar\":{\"outlinewidth\":0,\"ticks\":\"\"}},\"type\":\"scattergl\"}],\"scattermapbox\":[{\"marker\":{\"colorbar\":{\"outlinewidth\":0,\"ticks\":\"\"}},\"type\":\"scattermapbox\"}],\"scatterpolar\":[{\"marker\":{\"colorbar\":{\"outlinewidth\":0,\"ticks\":\"\"}},\"type\":\"scatterpolar\"}],\"scatterpolargl\":[{\"marker\":{\"colorbar\":{\"outlinewidth\":0,\"ticks\":\"\"}},\"type\":\"scatterpolargl\"}],\"scatterternary\":[{\"marker\":{\"colorbar\":{\"outlinewidth\":0,\"ticks\":\"\"}},\"type\":\"scatterternary\"}],\"surface\":[{\"colorbar\":{\"outlinewidth\":0,\"ticks\":\"\"},\"colorscale\":[[0.0,\"#0d0887\"],[0.1111111111111111,\"#46039f\"],[0.2222222222222222,\"#7201a8\"],[0.3333333333333333,\"#9c179e\"],[0.4444444444444444,\"#bd3786\"],[0.5555555555555556,\"#d8576b\"],[0.6666666666666666,\"#ed7953\"],[0.7777777777777778,\"#fb9f3a\"],[0.8888888888888888,\"#fdca26\"],[1.0,\"#f0f921\"]],\"type\":\"surface\"}],\"table\":[{\"cells\":{\"fill\":{\"color\":\"#EBF0F8\"},\"line\":{\"color\":\"white\"}},\"header\":{\"fill\":{\"color\":\"#C8D4E3\"},\"line\":{\"color\":\"white\"}},\"type\":\"table\"}]},\"layout\":{\"annotationdefaults\":{\"arrowcolor\":\"#2a3f5f\",\"arrowhead\":0,\"arrowwidth\":1},\"autotypenumbers\":\"strict\",\"coloraxis\":{\"colorbar\":{\"outlinewidth\":0,\"ticks\":\"\"}},\"colorscale\":{\"diverging\":[[0,\"#8e0152\"],[0.1,\"#c51b7d\"],[0.2,\"#de77ae\"],[0.3,\"#f1b6da\"],[0.4,\"#fde0ef\"],[0.5,\"#f7f7f7\"],[0.6,\"#e6f5d0\"],[0.7,\"#b8e186\"],[0.8,\"#7fbc41\"],[0.9,\"#4d9221\"],[1,\"#276419\"]],\"sequential\":[[0.0,\"#0d0887\"],[0.1111111111111111,\"#46039f\"],[0.2222222222222222,\"#7201a8\"],[0.3333333333333333,\"#9c179e\"],[0.4444444444444444,\"#bd3786\"],[0.5555555555555556,\"#d8576b\"],[0.6666666666666666,\"#ed7953\"],[0.7777777777777778,\"#fb9f3a\"],[0.8888888888888888,\"#fdca26\"],[1.0,\"#f0f921\"]],\"sequentialminus\":[[0.0,\"#0d0887\"],[0.1111111111111111,\"#46039f\"],[0.2222222222222222,\"#7201a8\"],[0.3333333333333333,\"#9c179e\"],[0.4444444444444444,\"#bd3786\"],[0.5555555555555556,\"#d8576b\"],[0.6666666666666666,\"#ed7953\"],[0.7777777777777778,\"#fb9f3a\"],[0.8888888888888888,\"#fdca26\"],[1.0,\"#f0f921\"]]},\"colorway\":[\"#636efa\",\"#EF553B\",\"#00cc96\",\"#ab63fa\",\"#FFA15A\",\"#19d3f3\",\"#FF6692\",\"#B6E880\",\"#FF97FF\",\"#FECB52\"],\"font\":{\"color\":\"#2a3f5f\"},\"geo\":{\"bgcolor\":\"white\",\"lakecolor\":\"white\",\"landcolor\":\"#E5ECF6\",\"showlakes\":true,\"showland\":true,\"subunitcolor\":\"white\"},\"hoverlabel\":{\"align\":\"left\"},\"hovermode\":\"closest\",\"mapbox\":{\"style\":\"light\"},\"paper_bgcolor\":\"white\",\"plot_bgcolor\":\"#E5ECF6\",\"polar\":{\"angularaxis\":{\"gridcolor\":\"white\",\"linecolor\":\"white\",\"ticks\":\"\"},\"bgcolor\":\"#E5ECF6\",\"radialaxis\":{\"gridcolor\":\"white\",\"linecolor\":\"white\",\"ticks\":\"\"}},\"scene\":{\"xaxis\":{\"backgroundcolor\":\"#E5ECF6\",\"gridcolor\":\"white\",\"gridwidth\":2,\"linecolor\":\"white\",\"showbackground\":true,\"ticks\":\"\",\"zerolinecolor\":\"white\"},\"yaxis\":{\"backgroundcolor\":\"#E5ECF6\",\"gridcolor\":\"white\",\"gridwidth\":2,\"linecolor\":\"white\",\"showbackground\":true,\"ticks\":\"\",\"zerolinecolor\":\"white\"},\"zaxis\":{\"backgroundcolor\":\"#E5ECF6\",\"gridcolor\":\"white\",\"gridwidth\":2,\"linecolor\":\"white\",\"showbackground\":true,\"ticks\":\"\",\"zerolinecolor\":\"white\"}},\"shapedefaults\":{\"line\":{\"color\":\"#2a3f5f\"}},\"ternary\":{\"aaxis\":{\"gridcolor\":\"white\",\"linecolor\":\"white\",\"ticks\":\"\"},\"baxis\":{\"gridcolor\":\"white\",\"linecolor\":\"white\",\"ticks\":\"\"},\"bgcolor\":\"#E5ECF6\",\"caxis\":{\"gridcolor\":\"white\",\"linecolor\":\"white\",\"ticks\":\"\"}},\"title\":{\"x\":0.05},\"xaxis\":{\"automargin\":true,\"gridcolor\":\"white\",\"linecolor\":\"white\",\"ticks\":\"\",\"title\":{\"standoff\":15},\"zerolinecolor\":\"white\",\"zerolinewidth\":2},\"yaxis\":{\"automargin\":true,\"gridcolor\":\"white\",\"linecolor\":\"white\",\"ticks\":\"\",\"title\":{\"standoff\":15},\"zerolinecolor\":\"white\",\"zerolinewidth\":2}}},\"xaxis\":{\"anchor\":\"y\",\"domain\":[0.0,1.0],\"title\":{\"text\":\"support\"}},\"yaxis\":{\"anchor\":\"x\",\"domain\":[0.0,1.0],\"title\":{\"text\":\"itemsets\"}},\"legend\":{\"tracegroupgap\":0},\"margin\":{\"t\":60},\"barmode\":\"relative\"},                        {\"responsive\": true}                    ).then(function(){\n",
       "                            \n",
       "var gd = document.getElementById('6e94c5bc-db17-4e70-914a-536179cc2fba');\n",
       "var x = new MutationObserver(function (mutations, observer) {{\n",
       "        var display = window.getComputedStyle(gd).display;\n",
       "        if (!display || display === 'none') {{\n",
       "            console.log([gd, 'removed!']);\n",
       "            Plotly.purge(gd);\n",
       "            observer.disconnect();\n",
       "        }}\n",
       "}});\n",
       "\n",
       "// Listen for the removal of the full notebook cells\n",
       "var notebookContainer = gd.closest('#notebook-container');\n",
       "if (notebookContainer) {{\n",
       "    x.observe(notebookContainer, {childList: true});\n",
       "}}\n",
       "\n",
       "// Listen for the clearing of the current output cell\n",
       "var outputEl = gd.closest('.output');\n",
       "if (outputEl) {{\n",
       "    x.observe(outputEl, {childList: true});\n",
       "}}\n",
       "\n",
       "                        })                };                });            </script>        </div>"
      ]
     },
     "metadata": {},
     "output_type": "display_data"
    }
   ],
   "source": [
    "top_20_frequence = frequent_itemsets_plot.sort_values('support',ascending=False).head(20).sort_values('support')\n",
    "fig = px.bar(top_20_frequence, x=\"support\", y=\"itemsets\", orientation='h', text='support')\n",
    "fig.update_traces(textposition=\"outside\")\n",
    "fig.show()"
   ]
  },
  {
   "cell_type": "markdown",
   "metadata": {},
   "source": [
    "We filter an lift equal to 1 to get only rules that have a probability of buying the antecedents and consequents in the same order. As we can see, we have a high probability of recomedations if the customer buys an item. For example, we have 174 possibilities of recommendations if the customer buys a plain papadum."
   ]
  },
  {
   "cell_type": "markdown",
   "metadata": {},
   "source": [
    "### Association Rules"
   ]
  },
  {
   "cell_type": "code",
   "execution_count": 22,
   "metadata": {
    "execution": {
     "iopub.execute_input": "2022-11-28T02:17:44.823209Z",
     "iopub.status.busy": "2022-11-28T02:17:44.822121Z",
     "iopub.status.idle": "2022-11-28T02:17:44.856318Z",
     "shell.execute_reply": "2022-11-28T02:17:44.855612Z",
     "shell.execute_reply.started": "2022-11-28T02:17:44.823151Z"
    }
   },
   "outputs": [
    {
     "data": {
      "text/plain": [
       "antecedents\n",
       "(plain papadum)                                           174\n",
       "(pilau rice)                                              166\n",
       "(mango chutney)                                           105\n",
       "(naan)                                                     71\n",
       "(mint sauce)                                               70\n",
       "                                                         ... \n",
       "(pilau rice, mint sauce, garlic naan)                       1\n",
       "(pilau rice, garlic naan, mango chutney)                    1\n",
       "(garlic naan, mint sauce, mango chutney)                    1\n",
       "(keema naan, pilau rice, plain papadum)                     1\n",
       "(plain papadum, pilau rice, mint sauce, mango chutney)      1\n",
       "Length: 285, dtype: int64"
      ]
     },
     "execution_count": 22,
     "metadata": {},
     "output_type": "execute_result"
    }
   ],
   "source": [
    "market_basket_rules = association_rules(frequent_itemsets, metric=\"lift\", min_threshold=1)\n",
    "market_basket_rules.groupby('antecedents').size().sort_values(ascending=False)"
   ]
  },
  {
   "cell_type": "markdown",
   "metadata": {},
   "source": [
    "<a id='item_recommendation'></a>\n",
    "### Item Recommendation\n",
    "\n",
    "To filter the best recommendations we will use the highest confidence value for each antecedent. We ran with the top 20 most frequent items and got some recommendations:\n",
    "\n",
    "* 4.44% (confidence) of those who buys pilau rice, buys paratha as well;\n",
    "* If one buys garlic naan, it's likely that one has also bought plain papadum with saag aloo. This way, it is possible to create a bundle with these items and apply a discount;\n",
    "* If one buys pilau rice with chicken tikka masala it's likely that one has also bought madras. This way, it is possible apply discount in the madras."
   ]
  },
  {
   "cell_type": "code",
   "execution_count": 43,
   "metadata": {
    "execution": {
     "iopub.execute_input": "2022-01-19T20:18:35.017935Z",
     "iopub.status.busy": "2022-01-19T20:18:35.017019Z",
     "iopub.status.idle": "2022-01-19T20:18:35.065031Z",
     "shell.execute_reply": "2022-01-19T20:18:35.064031Z",
     "shell.execute_reply.started": "2022-01-19T20:18:35.0179Z"
    }
   },
   "outputs": [
    {
     "data": {
      "text/html": [
       "<div>\n",
       "<style scoped>\n",
       "    .dataframe tbody tr th:only-of-type {\n",
       "        vertical-align: middle;\n",
       "    }\n",
       "\n",
       "    .dataframe tbody tr th {\n",
       "        vertical-align: top;\n",
       "    }\n",
       "\n",
       "    .dataframe thead th {\n",
       "        text-align: right;\n",
       "    }\n",
       "</style>\n",
       "<table border=\"1\" class=\"dataframe\">\n",
       "  <thead>\n",
       "    <tr style=\"text-align: right;\">\n",
       "      <th></th>\n",
       "      <th>antecedents</th>\n",
       "      <th>consequents</th>\n",
       "      <th>antecedent support</th>\n",
       "      <th>consequent support</th>\n",
       "      <th>support</th>\n",
       "      <th>confidence</th>\n",
       "      <th>lift</th>\n",
       "      <th>leverage</th>\n",
       "      <th>conviction</th>\n",
       "    </tr>\n",
       "  </thead>\n",
       "  <tbody>\n",
       "    <tr>\n",
       "      <th>303</th>\n",
       "      <td>(mango chutney)</td>\n",
       "      <td>(plain papadum)</td>\n",
       "      <td>0.227811</td>\n",
       "      <td>0.397813</td>\n",
       "      <td>0.192006</td>\n",
       "      <td>0.842827</td>\n",
       "      <td>2.118654</td>\n",
       "      <td>0.101379</td>\n",
       "      <td>3.831372</td>\n",
       "    </tr>\n",
       "    <tr>\n",
       "      <th>341</th>\n",
       "      <td>(mint sauce)</td>\n",
       "      <td>(plain papadum)</td>\n",
       "      <td>0.166225</td>\n",
       "      <td>0.397813</td>\n",
       "      <td>0.133414</td>\n",
       "      <td>0.802611</td>\n",
       "      <td>2.017560</td>\n",
       "      <td>0.067288</td>\n",
       "      <td>3.050764</td>\n",
       "    </tr>\n",
       "    <tr>\n",
       "      <th>135</th>\n",
       "      <td>(chicken tikka masala)</td>\n",
       "      <td>(pilau rice)</td>\n",
       "      <td>0.231197</td>\n",
       "      <td>0.501714</td>\n",
       "      <td>0.158413</td>\n",
       "      <td>0.685189</td>\n",
       "      <td>1.365695</td>\n",
       "      <td>0.042419</td>\n",
       "      <td>1.582807</td>\n",
       "    </tr>\n",
       "    <tr>\n",
       "      <th>418</th>\n",
       "      <td>(plain naan)</td>\n",
       "      <td>(pilau rice)</td>\n",
       "      <td>0.162840</td>\n",
       "      <td>0.501714</td>\n",
       "      <td>0.103728</td>\n",
       "      <td>0.636994</td>\n",
       "      <td>1.269634</td>\n",
       "      <td>0.022029</td>\n",
       "      <td>1.372664</td>\n",
       "    </tr>\n",
       "    <tr>\n",
       "      <th>1283</th>\n",
       "      <td>(plain papadum, mango chutney)</td>\n",
       "      <td>(pilau rice)</td>\n",
       "      <td>0.192006</td>\n",
       "      <td>0.501714</td>\n",
       "      <td>0.120698</td>\n",
       "      <td>0.628617</td>\n",
       "      <td>1.252937</td>\n",
       "      <td>0.024366</td>\n",
       "      <td>1.341702</td>\n",
       "    </tr>\n",
       "    <tr>\n",
       "      <th>38</th>\n",
       "      <td>(bombay aloo)</td>\n",
       "      <td>(pilau rice)</td>\n",
       "      <td>0.243522</td>\n",
       "      <td>0.501714</td>\n",
       "      <td>0.151165</td>\n",
       "      <td>0.620745</td>\n",
       "      <td>1.237248</td>\n",
       "      <td>0.028987</td>\n",
       "      <td>1.313854</td>\n",
       "    </tr>\n",
       "    <tr>\n",
       "      <th>409</th>\n",
       "      <td>(peshwari naan)</td>\n",
       "      <td>(pilau rice)</td>\n",
       "      <td>0.155766</td>\n",
       "      <td>0.501714</td>\n",
       "      <td>0.096480</td>\n",
       "      <td>0.619393</td>\n",
       "      <td>1.234552</td>\n",
       "      <td>0.018330</td>\n",
       "      <td>1.309185</td>\n",
       "    </tr>\n",
       "    <tr>\n",
       "      <th>369</th>\n",
       "      <td>(naan)</td>\n",
       "      <td>(pilau rice)</td>\n",
       "      <td>0.289875</td>\n",
       "      <td>0.501714</td>\n",
       "      <td>0.177640</td>\n",
       "      <td>0.612816</td>\n",
       "      <td>1.221445</td>\n",
       "      <td>0.032206</td>\n",
       "      <td>1.286949</td>\n",
       "    </tr>\n",
       "    <tr>\n",
       "      <th>214</th>\n",
       "      <td>(keema naan)</td>\n",
       "      <td>(pilau rice)</td>\n",
       "      <td>0.160410</td>\n",
       "      <td>0.501714</td>\n",
       "      <td>0.097956</td>\n",
       "      <td>0.610660</td>\n",
       "      <td>1.217147</td>\n",
       "      <td>0.017476</td>\n",
       "      <td>1.279822</td>\n",
       "    </tr>\n",
       "    <tr>\n",
       "      <th>420</th>\n",
       "      <td>(plain papadum)</td>\n",
       "      <td>(pilau rice)</td>\n",
       "      <td>0.397813</td>\n",
       "      <td>0.501714</td>\n",
       "      <td>0.241526</td>\n",
       "      <td>0.607135</td>\n",
       "      <td>1.210121</td>\n",
       "      <td>0.041938</td>\n",
       "      <td>1.268338</td>\n",
       "    </tr>\n",
       "    <tr>\n",
       "      <th>185</th>\n",
       "      <td>(garlic naan)</td>\n",
       "      <td>(pilau rice)</td>\n",
       "      <td>0.266655</td>\n",
       "      <td>0.501714</td>\n",
       "      <td>0.153769</td>\n",
       "      <td>0.576660</td>\n",
       "      <td>1.149379</td>\n",
       "      <td>0.019985</td>\n",
       "      <td>1.177035</td>\n",
       "    </tr>\n",
       "    <tr>\n",
       "      <th>393</th>\n",
       "      <td>(onion bhaji)</td>\n",
       "      <td>(pilau rice)</td>\n",
       "      <td>0.156721</td>\n",
       "      <td>0.501714</td>\n",
       "      <td>0.085239</td>\n",
       "      <td>0.543894</td>\n",
       "      <td>1.084070</td>\n",
       "      <td>0.006610</td>\n",
       "      <td>1.092477</td>\n",
       "    </tr>\n",
       "    <tr>\n",
       "      <th>850</th>\n",
       "      <td>(pilau rice, chicken tikka masala)</td>\n",
       "      <td>(plain papadum)</td>\n",
       "      <td>0.158413</td>\n",
       "      <td>0.397813</td>\n",
       "      <td>0.082245</td>\n",
       "      <td>0.519178</td>\n",
       "      <td>1.305082</td>\n",
       "      <td>0.019226</td>\n",
       "      <td>1.252413</td>\n",
       "    </tr>\n",
       "    <tr>\n",
       "      <th>1478</th>\n",
       "      <td>(pilau rice, naan)</td>\n",
       "      <td>(plain papadum)</td>\n",
       "      <td>0.177640</td>\n",
       "      <td>0.397813</td>\n",
       "      <td>0.091142</td>\n",
       "      <td>0.513071</td>\n",
       "      <td>1.289731</td>\n",
       "      <td>0.020475</td>\n",
       "      <td>1.236705</td>\n",
       "    </tr>\n",
       "    <tr>\n",
       "      <th>616</th>\n",
       "      <td>(bombay aloo, pilau rice)</td>\n",
       "      <td>(plain papadum)</td>\n",
       "      <td>0.151165</td>\n",
       "      <td>0.397813</td>\n",
       "      <td>0.077080</td>\n",
       "      <td>0.509905</td>\n",
       "      <td>1.281773</td>\n",
       "      <td>0.016945</td>\n",
       "      <td>1.228716</td>\n",
       "    </tr>\n",
       "    <tr>\n",
       "      <th>984</th>\n",
       "      <td>(pilau rice, garlic naan)</td>\n",
       "      <td>(plain papadum)</td>\n",
       "      <td>0.153769</td>\n",
       "      <td>0.397813</td>\n",
       "      <td>0.078252</td>\n",
       "      <td>0.508891</td>\n",
       "      <td>1.279222</td>\n",
       "      <td>0.017080</td>\n",
       "      <td>1.226178</td>\n",
       "    </tr>\n",
       "    <tr>\n",
       "      <th>1282</th>\n",
       "      <td>(plain papadum, pilau rice)</td>\n",
       "      <td>(mango chutney)</td>\n",
       "      <td>0.241526</td>\n",
       "      <td>0.227811</td>\n",
       "      <td>0.120698</td>\n",
       "      <td>0.499730</td>\n",
       "      <td>2.193616</td>\n",
       "      <td>0.065676</td>\n",
       "      <td>1.543545</td>\n",
       "    </tr>\n",
       "    <tr>\n",
       "      <th>439</th>\n",
       "      <td>(plain rice)</td>\n",
       "      <td>(plain papadum)</td>\n",
       "      <td>0.213012</td>\n",
       "      <td>0.397813</td>\n",
       "      <td>0.104075</td>\n",
       "      <td>0.488590</td>\n",
       "      <td>1.228192</td>\n",
       "      <td>0.019337</td>\n",
       "      <td>1.177504</td>\n",
       "    </tr>\n",
       "    <tr>\n",
       "      <th>421</th>\n",
       "      <td>(pilau rice)</td>\n",
       "      <td>(plain papadum)</td>\n",
       "      <td>0.501714</td>\n",
       "      <td>0.397813</td>\n",
       "      <td>0.241526</td>\n",
       "      <td>0.481401</td>\n",
       "      <td>1.210121</td>\n",
       "      <td>0.041938</td>\n",
       "      <td>1.161182</td>\n",
       "    </tr>\n",
       "    <tr>\n",
       "      <th>360</th>\n",
       "      <td>(mushroom rice)</td>\n",
       "      <td>(plain papadum)</td>\n",
       "      <td>0.184193</td>\n",
       "      <td>0.397813</td>\n",
       "      <td>0.082158</td>\n",
       "      <td>0.446041</td>\n",
       "      <td>1.121235</td>\n",
       "      <td>0.008883</td>\n",
       "      <td>1.087062</td>\n",
       "    </tr>\n",
       "  </tbody>\n",
       "</table>\n",
       "</div>"
      ],
      "text/plain": [
       "                             antecedents      consequents  antecedent support  \\\n",
       "303                      (mango chutney)  (plain papadum)            0.227811   \n",
       "341                         (mint sauce)  (plain papadum)            0.166225   \n",
       "135               (chicken tikka masala)     (pilau rice)            0.231197   \n",
       "418                         (plain naan)     (pilau rice)            0.162840   \n",
       "1283      (plain papadum, mango chutney)     (pilau rice)            0.192006   \n",
       "38                         (bombay aloo)     (pilau rice)            0.243522   \n",
       "409                      (peshwari naan)     (pilau rice)            0.155766   \n",
       "369                               (naan)     (pilau rice)            0.289875   \n",
       "214                         (keema naan)     (pilau rice)            0.160410   \n",
       "420                      (plain papadum)     (pilau rice)            0.397813   \n",
       "185                        (garlic naan)     (pilau rice)            0.266655   \n",
       "393                        (onion bhaji)     (pilau rice)            0.156721   \n",
       "850   (pilau rice, chicken tikka masala)  (plain papadum)            0.158413   \n",
       "1478                  (pilau rice, naan)  (plain papadum)            0.177640   \n",
       "616            (bombay aloo, pilau rice)  (plain papadum)            0.151165   \n",
       "984            (pilau rice, garlic naan)  (plain papadum)            0.153769   \n",
       "1282         (plain papadum, pilau rice)  (mango chutney)            0.241526   \n",
       "439                         (plain rice)  (plain papadum)            0.213012   \n",
       "421                         (pilau rice)  (plain papadum)            0.501714   \n",
       "360                      (mushroom rice)  (plain papadum)            0.184193   \n",
       "\n",
       "      consequent support   support  confidence      lift  leverage  conviction  \n",
       "303             0.397813  0.192006    0.842827  2.118654  0.101379    3.831372  \n",
       "341             0.397813  0.133414    0.802611  2.017560  0.067288    3.050764  \n",
       "135             0.501714  0.158413    0.685189  1.365695  0.042419    1.582807  \n",
       "418             0.501714  0.103728    0.636994  1.269634  0.022029    1.372664  \n",
       "1283            0.501714  0.120698    0.628617  1.252937  0.024366    1.341702  \n",
       "38              0.501714  0.151165    0.620745  1.237248  0.028987    1.313854  \n",
       "409             0.501714  0.096480    0.619393  1.234552  0.018330    1.309185  \n",
       "369             0.501714  0.177640    0.612816  1.221445  0.032206    1.286949  \n",
       "214             0.501714  0.097956    0.610660  1.217147  0.017476    1.279822  \n",
       "420             0.501714  0.241526    0.607135  1.210121  0.041938    1.268338  \n",
       "185             0.501714  0.153769    0.576660  1.149379  0.019985    1.177035  \n",
       "393             0.501714  0.085239    0.543894  1.084070  0.006610    1.092477  \n",
       "850             0.397813  0.082245    0.519178  1.305082  0.019226    1.252413  \n",
       "1478            0.397813  0.091142    0.513071  1.289731  0.020475    1.236705  \n",
       "616             0.397813  0.077080    0.509905  1.281773  0.016945    1.228716  \n",
       "984             0.397813  0.078252    0.508891  1.279222  0.017080    1.226178  \n",
       "1282            0.227811  0.120698    0.499730  2.193616  0.065676    1.543545  \n",
       "439             0.397813  0.104075    0.488590  1.228192  0.019337    1.177504  \n",
       "421             0.397813  0.241526    0.481401  1.210121  0.041938    1.161182  \n",
       "360             0.397813  0.082158    0.446041  1.121235  0.008883    1.087062  "
      ]
     },
     "execution_count": 43,
     "metadata": {},
     "output_type": "execute_result"
    }
   ],
   "source": [
    "best_item_recommendations = market_basket_rules.sort_values(['confidence','lift'],ascending=False).drop_duplicates(subset=['antecedents'])\n",
    "top_20_frequence_items = frequent_itemsets.sort_values('support',ascending=False).head(20)['itemsets']\n",
    "best_item_recommendations[best_item_recommendations['antecedents'].isin(top_20_frequence_items)]"
   ]
  },
  {
   "cell_type": "markdown",
   "metadata": {},
   "source": [
    "<a id='conclusions'></a>\n",
    "### Conclusions:\n",
    "\n",
    "* The quantity of the food per order is higher in the second restaurant, which increases the average order price with difference \\\\$ 1.44;\n",
    "* The average price is \\\\$ 43.6 and 10 food per order with \\\\$ 4.15 per food the average;\n",
    "* The average frequency item is 509, that is, an item appears on average 509 times which represets 2.22%;\n",
    "* 50,17% of orders has pilau rice;\n",
    "* 24.15% of orders have simple papadum and rice pilau in the same order 19.2% have simple papadum, mango chutney;\n",
    "* 2.28% of orders have simple papadum, onion chutney, mango chutney, mint sauce, rice pilau as items;\n",
    "* 4.44% (confidence) of those who buys pilau rice, buys paratha as well;\n",
    "* If one buys plain papadum with pilau rice it's likely that one has also bought garlic naan with naan;\n",
    "* If one buys garlic naan, it's likely that one has also bought plain papadum with saag aloo. This way, it is possible to create a bundle with these items and apply a discount;\n",
    "* If one buys pilau rice with chicken tikka masala it's likely that one has also bought madras. This way, it is possible apply discount in the madras."
   ]
  }
 ],
 "metadata": {
  "kernelspec": {
   "display_name": "Python 3 (ipykernel)",
   "language": "python",
   "name": "python3"
  },
  "language_info": {
   "codemirror_mode": {
    "name": "ipython",
    "version": 3
   },
   "file_extension": ".py",
   "mimetype": "text/x-python",
   "name": "python",
   "nbconvert_exporter": "python",
   "pygments_lexer": "ipython3",
   "version": "3.9.12"
  }
 },
 "nbformat": 4,
 "nbformat_minor": 4
}
